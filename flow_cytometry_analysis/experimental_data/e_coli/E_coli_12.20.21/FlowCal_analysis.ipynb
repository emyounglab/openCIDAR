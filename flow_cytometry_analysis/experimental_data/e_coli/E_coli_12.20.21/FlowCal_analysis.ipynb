{
 "cells": [
  {
   "cell_type": "markdown",
   "metadata": {},
   "source": [
    "This analysis method is intended to convert flow cytometry data to MEFL using calibration beads. Make a folder for a single flow cytometery run that contains this file as well as folders named \"samples\" and \"beads.\" Place the .fcs files for your samples in the samples folder and the beads in the beads folder.\n",
    "\n",
    "This analysis method was written to account for blank, non-fluorescent beads mixed with the fluorescent calibration beads, as recommended by Spherotec. These blank beads are the same size as the calibration beads and are not gated out with the default 2D density gating used by the FlowCal Excel analysis template. The inclusion of the blank beads throws off the calibration curve.\n",
    "\n",
    "This script will function for bead populations that contain only calibration beads and no blanks, but it is probably easier to simply use the standard FlowCal Excel template for those experiments.\n",
    "\n",
    "To use this script, either step through the instructions and run each code cell as you go, or fill in all the required information and then run all cells together. Do not skip to the middle of the protocol and attempt to run segments of code, as it will not work.\n",
    "\n",
    "This script was written by Kevin Keating on 5/25/2022 and run on Python 3.9.13."
   ]
  },
  {
   "cell_type": "code",
   "execution_count": null,
   "metadata": {},
   "outputs": [],
   "source": [
    "# Import all packages required for this script\n",
    "import FlowCal\n",
    "import matplotlib.pyplot as plt\n",
    "import numpy as np\n",
    "import os\n",
    "import scipy\n",
    "from pathlib import Path\n",
    "import pandas as pd\n",
    "from collections import OrderedDict\n",
    "from natsort import os_sorted"
   ]
  },
  {
   "cell_type": "markdown",
   "metadata": {},
   "source": [
    "If any of the above packages are not installed on your computer, you may get an error like \"package x not found.\" This will probably happen for FlowCal and natsort since they are not common or default packages. To install these packages, open up a terminal shell and write the following commands:\n",
    "\n",
    "pip install FlowCal\n",
    "pip install natsort\n",
    "\n",
    "etc."
   ]
  },
  {
   "cell_type": "markdown",
   "metadata": {},
   "source": [
    "Write the file name for the flow cytometery data for your calibration beads in single quotes below, then run the section of code by pressing the \"play\" button to the left of the cell."
   ]
  },
  {
   "cell_type": "code",
   "execution_count": null,
   "metadata": {},
   "outputs": [],
   "source": [
    "# Change the below values as needed\n",
    "bead_file_name = 'beads-1.fcs'"
   ]
  },
  {
   "cell_type": "markdown",
   "metadata": {},
   "source": [
    "The code below will read in the data from the bead file and make a scatter plot based on the FSC and SSC channels (size and complexity, roughly). You should see a population of events concentrated in a high density region (red/orange/yellow/green), as well as some lower density noise and saturation events (blue/indigo/violet)."
   ]
  },
  {
   "cell_type": "code",
   "execution_count": null,
   "metadata": {},
   "outputs": [],
   "source": [
    "# Changing the below code should not be necessary\n",
    "bead_path = './beads/'+bead_file_name\n",
    "b = FlowCal.io.FCSData(bead_path)\n",
    "b = FlowCal.gate.start_end(b, num_start=250, num_end=100) # Removes first 250 and last 100 events, used in FlowCal excel_ui script\n",
    "b_transformed = FlowCal.transform.to_rfi(b, channels='FL1-A') # this converts the raw voltage values for FL1-A (GFP-A) to Relative Fluorescent Intensity (AU)\n",
    "FlowCal.plot.density2d(b_transformed, channels=['FSC-A', 'SSC-A'], mode='scatter')\n",
    "plt.show()"
   ]
  },
  {
   "cell_type": "markdown",
   "metadata": {},
   "source": [
    "For the set of data I used to write this code, it was pretty clear that all of my beads had FSC and SSC values above 10^5. Deleting all noise events below this value is called gating. Look at your data and determine whether these gates are appropriate or change them as needed. "
   ]
  },
  {
   "cell_type": "code",
   "execution_count": null,
   "metadata": {},
   "outputs": [],
   "source": [
    "# Change the below values as needed\n",
    "FSC_low_gate = 10**5    # This notation is \"python\" for 10^5\n",
    "SSC_low_gate = 10**5\n",
    "\n",
    "\n",
    "# Changing the below code should not be necessary\n",
    "b_gated1 = FlowCal.gate.high_low(b_transformed, channels=['FSC-A'], low = FSC_low_gate)\n",
    "b_gated2 = FlowCal.gate.high_low(b_gated1, channels=['SSC-A'], low = SSC_low_gate)\n",
    "FlowCal.plot.density2d(b_gated2, channels=['FSC-A', 'SSC-A'], mode='scatter')\n",
    "plt.show()"
   ]
  },
  {
   "cell_type": "markdown",
   "metadata": {},
   "source": [
    "If the gated population looks reasonable, continue. Otherwise adjust the gate values as needed.\n",
    "\n",
    "The histograms below are fluorescent intensities of the beads. There should be a sharp peak for each sub-population of beads at a specific intensity, which we will later correlate to known MEF values. For Spherotec URCP-38-2K beads, there will be 5 sharp peaks. If the blanks are mixed in, there will also be a lower, broader peak close to zero (but nonzero due to autofluorescence). We want to gate out that blank bead peak (if it exists), so we will pick a gate value between the blank bead peak and the lowest sharp bead peak. For this analysis set, 10^3.5 AU was a good value."
   ]
  },
  {
   "cell_type": "code",
   "execution_count": null,
   "metadata": {},
   "outputs": [],
   "source": [
    "# Change the below value as needed\n",
    "fluorescence_gate = 10**3.5 \n",
    "\n",
    "\n",
    "# Changing the below code should not be necessary\n",
    "bins = np.logspace(0, 7, 100)\n",
    "plt.hist(b_gated2[:, 'FL1-A'], bins=bins)\n",
    "plt.xscale('log')\n",
    "plt.title('Without fluorescence gate')\n",
    "plt.xlabel('RFI / AU')\n",
    "plt.show()\n",
    "\n",
    "b_gated3 = FlowCal.gate.high_low(b_gated2, channels=['FL1-A'], low = fluorescence_gate)\n",
    "plt.hist(b_gated3[:, 'FL1-A'], bins=bins)\n",
    "plt.xscale('log')\n",
    "plt.title('With fluorescence gate')\n",
    "plt.xlabel('RFI / AU')\n",
    "plt.show()"
   ]
  },
  {
   "cell_type": "markdown",
   "metadata": {},
   "source": [
    "If the blank bead peak has been removed without removing any of the fluorescent bead peaks, proceed. Otherwise, change the value for \"fluorescence gate\" in the above cell and rerun.\n",
    "\n",
    "The plot below shows the remaining bead population before an after applying a light density gate to tighten up data. Adjust the percent of cells to keep as needed."
   ]
  },
  {
   "cell_type": "code",
   "execution_count": null,
   "metadata": {},
   "outputs": [],
   "source": [
    "# Change the below value as needed\n",
    "percent_events_to_keep = 95\n",
    "\n",
    "# Changing the below code should not be necessary\n",
    "FlowCal.plot.density2d(b_gated3, channels=['FSC-A', 'SSC-A'], mode='scatter', title='Before density gating')\n",
    "plt.show()\n",
    "\n",
    "b_gated4 = FlowCal.gate.density2d(b_gated3, channels=['FSC-A','SSC-A'], gate_fraction=percent_events_to_keep/100)\n",
    "FlowCal.plot.density2d(b_gated4, channels=['FSC-A', 'SSC-A'], mode='scatter', title='After density gating')\n",
    "plt.show()\n",
    "print('Final number of events kept is %d' % (b_gated4.shape[0]))"
   ]
  },
  {
   "cell_type": "markdown",
   "metadata": {},
   "source": [
    "The final population of cells should be ready to use to construct a calibration curve. Each lot of beads has its of target values for each channel, you need to get these from the manufacturer. The MEFL values for Spherotec URCP-38-2K beads lot AN02 are used below as default values."
   ]
  },
  {
   "cell_type": "code",
   "execution_count": null,
   "metadata": {},
   "outputs": [],
   "source": [
    "# Change the below value as needed\n",
    "mefl_values = np.array([3604, 32375, 93912, 251415, 521377])\n",
    "\n",
    "# Changing the below code should not be necessary\n",
    "to_mef = FlowCal.mef.get_transform_fxn(b_gated4, mef_values=mefl_values, mef_channels='FL1-A', plot=True)\n",
    "plt.show()"
   ]
  },
  {
   "cell_type": "markdown",
   "metadata": {},
   "source": [
    "Each sharp peak should be a different color, the vertical line for each color should be at the median of the appropriate peak, and all of the bead values should line up well on the linear standard curve. If all of these things are true, the calibration curve is ready to be applied to the samples.\n",
    "\n",
    "For reference, this is (roughly) what the calibration curve would have looked like with the default gating parameters. The default script was not replicated exactly. Uncomment the code section to view, the script fails with some bead populations (the reason why the above method was developed)."
   ]
  },
  {
   "cell_type": "code",
   "execution_count": null,
   "metadata": {},
   "outputs": [],
   "source": [
    "# Changing the below code should not be necessary\n",
    "# b_gated_default = FlowCal.gate.start_end(b_transformed, num_start=250, num_end=100)\n",
    "# b_gated_default = FlowCal.gate.high_low(b_gated_default, channels=['FSC-A', 'SSC-A'])\n",
    "# b_gated_default = FlowCal.gate.density2d(b_gated_default, channels=['FSC-A','SSC-A'], gate_fraction=0.45)\n",
    "# to_mef_default = FlowCal.mef.get_transform_fxn(b_gated_default, mef_values=mefl_values, mef_channels='FL1-A', plot=True)\n",
    "# plt.show()"
   ]
  },
  {
   "cell_type": "markdown",
   "metadata": {},
   "source": [
    "The \"to_mef\" object contains the calibration curve which we will apply to each sample. We will now test the calibration curve and the gating procedure on the first file in the samples folder. Note that a higher gating fraction may be appropriate for the samples than the beads (the cells are at a higher concentration in the sample so the signal to noise ratio is higher). Adjust as necessary."
   ]
  },
  {
   "cell_type": "code",
   "execution_count": null,
   "metadata": {},
   "outputs": [],
   "source": [
    "# Change the below value as needed\n",
    "gate_fraction = 0.75\n",
    "cell_FSC_low_gate = 10**3.1    # Different species will have different FSC and SSC values as well as different amounts of debris (slower growing cells tend to accumulate more debris) so these numbers should be adjusted as needed\n",
    "cell_SSC_low_gate = 10**3.1\n",
    "\n",
    "# Changing the below code should not be necessary\n",
    "test_sample = os.listdir('./samples')[0]\n",
    "\n",
    "# Read in and plot raw data\n",
    "s = FlowCal.io.FCSData('./samples/'+test_sample)\n",
    "FlowCal.plot.hist1d(s, channel='FSC-A', title='FSC histogram %s Pre-gate' %test_sample.split('.')[0])\n",
    "plt.show()\n",
    "FlowCal.plot.density2d(s, channels=['FSC-A', 'SSC-A'], mode='scatter', title='FSC and SSC scatter %s Pre-gate' %test_sample.split('.')[0])\n",
    "plt.show()\n",
    "\n",
    "# Transform RFI to AU, AU to MEF, and apply gates\n",
    "s_transformed = FlowCal.transform.to_rfi(s)\n",
    "s_truncated = FlowCal.gate.start_end(s_transformed, num_start=250, num_end=100) # Removes first 250 and last 100 events, used in FlowCal excel_ui script\n",
    "s_mef = to_mef(s_truncated, channels='FL1-A')\n",
    "s_gated1 = FlowCal.gate.high_low(s_mef, channels=['FSC-A', 'SSC-A'], low = cell_FSC_low_gate) # Gates out low debris\n",
    "s_gated2 = FlowCal.gate.high_low(s_gated1, channels=['FSC-A', 'SSC-A'], low = cell_FSC_low_gate) # Gates out low debris\n",
    "s_gated3 = FlowCal.gate.density2d(s_gated2, channels=['FSC-A', 'SSC-A'], gate_fraction=gate_fraction) # Density gate based on user-defined percent cells to keep\n",
    "\n",
    "# Show plots of gated data\n",
    "FlowCal.plot.hist1d(s_gated3, channel='FSC-A', title='FSC histogram %s Post-gate' %test_sample.split('.')[0])\n",
    "plt.show()\n",
    "FlowCal.plot.density2d(s_gated3, channels=['FSC-A', 'SSC-A'], mode='scatter', title='FSC and SSC scatter %s Post-gate' %test_sample.split('.')[0])\n",
    "plt.show()\n",
    "FlowCal.plot.hist1d(s_gated3, channel='FL1-A', title='%s Final MEFL histogram' %test_sample.split('.')[0])\n",
    "plt.show()\n",
    "\n",
    "# Slice out positive numbers for geometric mean calculation\n",
    "MEFL_vals = np.array(s_gated3[:, ['FL1-A']])\n",
    "MEFL_positives = MEFL_vals[MEFL_vals>0]\n",
    "\n",
    "# Display summary statistics\n",
    "print('Final number of events kept is %d' % (s_gated3.shape[0]))\n",
    "print('Arithmetic mean MEFL = %d' %FlowCal.stats.mean(s_gated3, channels='FL1-A'))\n",
    "print('Geometric mean of positive events = %d' %scipy.stats.gmean(MEFL_positives))"
   ]
  },
  {
   "cell_type": "markdown",
   "metadata": {},
   "source": [
    "If everything looks right, run the final settings on all the .fcs samples.\n",
    "\n",
    "The script below will read each .fcs file in the samples folder, apply a gating procedure, convert the fluorescence values to MEFL, generate plots of the process, and tabulate stats in a spreadsheet."
   ]
  },
  {
   "cell_type": "code",
   "execution_count": null,
   "metadata": {},
   "outputs": [],
   "source": [
    "# Changing the below code should not be necessary\n",
    "# Create a list of files in the samples folder\n",
    "sample_directory = './samples/'\n",
    "files = os_sorted(Path(sample_directory).glob('*.fcs'))\n",
    "\n",
    "# Initialized the dictionary to hold the statistics info\n",
    "stats = OrderedDict([('sample' , []),\n",
    "          ('GFP_geom_mean' , []),\n",
    "          ('GFP_geom_stdev' , []),\n",
    "          ('GFP_median' , []),\n",
    "          ('FSC_mean' , []),\n",
    "          ('count' , [])])\n",
    "\n",
    "long_data_dict = OrderedDict([('sample' , []),\n",
    "          ('MEFL_value' , [])])\n",
    "\n",
    "sample_long_array = np.empty((0,1),dtype=np.str_)\n",
    "run_long_array = np.empty((0,1),dtype=np.str_)\n",
    "MEFL_long_array = np.empty((0,1),dtype=np.float64)\n",
    "FSC_long_array = np.empty((0,1),dtype=np.float64)\n",
    "SSC_long_array = np.empty((0,1),dtype=np.float64)\n",
    "\n",
    "# Make folders to hold output files\n",
    "if not os.path.exists('FlowCal_plots'):\n",
    "    os.mkdir('FlowCal_plots')\n",
    "if not os.path.exists('FlowCal_stats'):\n",
    "    os.mkdir('FlowCal_stats')\n",
    "if not os.path.exists('FlowCal_MEFL_CSVs'):\n",
    "    os.mkdir('FlowCal_MEFL_CSVs')\n",
    "\n",
    "for file in files:\n",
    "    # Record the name of the sample file as the sample name\n",
    "    file_short = os.path.split(file)[1]\n",
    "    stats['sample'].append(file_short.replace('.fcs',''))\n",
    "    \n",
    "    # Read in and plot raw data\n",
    "    s = FlowCal.io.FCSData(sample_directory+file_short)\n",
    "    FlowCal.plot.hist1d(s, channel='FSC-A', title='%s FSC histogram Pre-gate' %file_short.replace('.fcs',''))\n",
    "    plt.savefig(fname='./FlowCal_plots/'+file_short.split('.')[0]+ ' 01 FSC histogram Pre-gate.png'); plt.close()\n",
    "    FlowCal.plot.density2d(s, channels=['FSC-A', 'SSC-A'], mode='scatter', title='%s FSC and SSC scatter Pre-gate' %file_short.replace('.fcs',''))\n",
    "    plt.savefig(fname='./FlowCal_plots/'+file_short.split('.')[0]+' 03 FSC and SSC scatter Pre-gate.png'); plt.close()\n",
    "    \n",
    "    # Transform RFI to AU, AU to MEF, and apply gates\n",
    "    s = FlowCal.transform.to_rfi(s)\n",
    "    s = FlowCal.gate.start_end(s, num_start=250, num_end=100) # Removes first 250 and last 100 events, used in FlowCal excel_ui script\n",
    "    s_mef = to_mef(s, channels='FL1-A')\n",
    "    s_g = FlowCal.gate.high_low(s_mef, channels=['FSC-A', 'SSC-A'], low = cell_FSC_low_gate) # Gates out low debris\n",
    "    s_g = FlowCal.gate.high_low(s_g, channels=['FSC-A', 'SSC-A'], low = cell_FSC_low_gate) # Gates out low debris\n",
    "    s_g = FlowCal.gate.density2d(s_g, channels=['FSC-A', 'SSC-A'], gate_fraction=gate_fraction) # Density gate based on user-defined percent cells to keep\n",
    "    FlowCal.plot.hist1d(s_g, channel='FSC-A', title='%s FSC histogram Post-gate' %file_short.replace('.fcs',''))\n",
    "    plt.savefig(fname='./FlowCal_plots/'+file_short.split('.')[0]+' 02 FSC histogram Post-gate.png'); plt.close()\n",
    "    FlowCal.plot.density2d(s_g, channels=['FSC-A', 'SSC-A'], mode='scatter', title=' %s FSC and SSC scatter Post-gate' %file_short.replace('.fcs',''))\n",
    "    plt.savefig(fname='./FlowCal_plots/'+file_short.split('.')[0]+' 04 FSC and SSC scatter Post-gate.png'); plt.close()\n",
    "    FlowCal.plot.hist1d(s_g, channel='FL1-A', title='%s Final MEFL histogram' %file_short.replace('.fcs',''))\n",
    "    plt.savefig(fname='./FlowCal_plots/'+file_short.split('.')[0]+' 05 MEFL histogram Post-gate.png'); plt.close()\n",
    "    \n",
    "    # Write out MEFL values to a separate .csv file for each sample for future analysis\n",
    "    #np.savetxt(\"./FlowCal_MEFL_CSVs/%s.csv\" %file_short, s_g[:, ['FL1-A']], delimiter=\",\")\n",
    "\n",
    "    # Slice out positive numbers for geometric mean calculation\n",
    "    MEFL_vals = np.array(s_g[:, ['FL1-A']])\n",
    "    MEFL_positives = MEFL_vals[MEFL_vals>0]\n",
    "\n",
    "    # Append values to be ouput to a csv to a dictionary in long format\n",
    "    MEFL_long_array = np.append(MEFL_long_array,MEFL_vals)\n",
    "    FSC_long_array = np.append(FSC_long_array,np.array(s_g[:, ['FSC-A']]))\n",
    "    SSC_long_array = np.append(SSC_long_array,np.array(s_g[:, ['SSC-A']]))\n",
    "    sample_long_array = np.append(sample_long_array,np.tile(np.array(file_short.replace('.fcs','')),np.shape(MEFL_vals)))\n",
    "    run_long_array =  np.append(run_long_array,np.tile(np.array(os.path.basename(os.getcwd())),np.shape(MEFL_vals)))\n",
    "    \n",
    "    # Calculate statistics for MEFL-converted flow data\n",
    "    stats['GFP_geom_mean'].append(scipy.stats.gmean(MEFL_positives)) #calculated for positive numbers only\n",
    "    stats['GFP_median'].append(FlowCal.stats.median(s_g, channels='FL1-A'))\n",
    "    stats['GFP_geom_stdev'].append(scipy.stats.gstd(MEFL_positives)) #calculated for positive numbers only                                  \n",
    "    stats['FSC_mean'].append(FlowCal.stats.mean(s_g, channels='FSC-A'))\n",
    "    stats['count'].append(s_g.shape[0])\n",
    "\n",
    "# Write stats out to Excel file\n",
    "stats_df = pd.DataFrame(stats)\n",
    "cwd = os.getcwd()\n",
    "stats_df.to_excel(excel_writer='./FlowCal_stats/'+cwd.split(\"/\")[-1]+'_stats.xlsx', index=False)\n",
    "\n",
    "# Write long_data_dict out to CSV for downstream analysis / plotting of MEFL values for each event (one .CSV for all samples together, in long format)\n",
    "long_record = np.rec.fromarrays((sample_long_array, run_long_array, MEFL_long_array, FSC_long_array, SSC_long_array), names=('sample', 'run_id', 'MEFL', 'FSC', 'SSC'))\n",
    "np.savetxt(fname='./FlowCal_MEFL_CSVs/'+cwd.split(\"/\")[-1]+'_all_events.csv',X=long_record, delimiter = \",\",fmt='%0s',header='sample,run_id,MEFL,FSC,SSC',comments='')"
   ]
  },
  {
   "cell_type": "markdown",
   "metadata": {},
   "source": [
    "Take a look through the histograms and make sure everything makes sense. If the gating looks off, tweak paramaters as needed, delete the ouput folders and rerun the entire script."
   ]
  }
 ],
 "metadata": {
  "interpreter": {
   "hash": "b0fa6594d8f4cbf19f97940f81e996739fb7646882a419484c72d19e05852a7e"
  },
  "kernelspec": {
   "display_name": "Python 3.9.13 64-bit",
   "language": "python",
   "name": "python3"
  },
  "language_info": {
   "codemirror_mode": {
    "name": "ipython",
    "version": 3
   },
   "file_extension": ".py",
   "mimetype": "text/x-python",
   "name": "python",
   "nbconvert_exporter": "python",
   "pygments_lexer": "ipython3",
   "version": "3.9.13"
  },
  "orig_nbformat": 4
 },
 "nbformat": 4,
 "nbformat_minor": 2
}
